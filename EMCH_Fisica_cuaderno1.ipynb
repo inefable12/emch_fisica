{
  "nbformat": 4,
  "nbformat_minor": 0,
  "metadata": {
    "colab": {
      "provenance": [],
      "toc_visible": true,
      "authorship_tag": "ABX9TyNyqU7wVKlRvg0zr0vXV7dz",
      "include_colab_link": true
    },
    "kernelspec": {
      "name": "python3",
      "display_name": "Python 3"
    },
    "language_info": {
      "name": "python"
    }
  },
  "cells": [
    {
      "cell_type": "markdown",
      "metadata": {
        "id": "view-in-github",
        "colab_type": "text"
      },
      "source": [
        "<a href=\"https://colab.research.google.com/github/inefable12/emch_fisica/blob/main/EMCH_Fisica_cuaderno1.ipynb\" target=\"_parent\"><img src=\"https://colab.research.google.com/assets/colab-badge.svg\" alt=\"Open In Colab\"/></a>"
      ]
    },
    {
      "cell_type": "markdown",
      "source": [
        "# Sesión de consultas"
      ],
      "metadata": {
        "id": "c66VG9Zbghbo"
      }
    },
    {
      "cell_type": "markdown",
      "source": [
        "## 1. Generación de mapa mental: (a) EDOTOR, (b) XMIND"
      ],
      "metadata": {
        "id": "BcL9JahLgl1S"
      }
    },
    {
      "cell_type": "code",
      "source": [],
      "metadata": {
        "id": "o8WASmzRgb5j"
      },
      "execution_count": null,
      "outputs": []
    },
    {
      "cell_type": "code",
      "execution_count": null,
      "metadata": {
        "id": "uH7OZXPufi1u"
      },
      "outputs": [],
      "source": []
    }
  ]
}